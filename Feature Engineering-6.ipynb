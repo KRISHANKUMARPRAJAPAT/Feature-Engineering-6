{
 "cells": [
  {
   "cell_type": "markdown",
   "id": "f8c5c149-00a5-4d80-86e4-4148a1ab23ed",
   "metadata": {},
   "source": [
    "# Q1. Pearson correlation coefficient is a measure of the linear relationship between two variables. Suppose you have collected data on the amount of time students spend studying for an exam and their final exam scores. Calculate the Pearson correlation coefficient between these two variables and interpret the result."
   ]
  },
  {
   "cell_type": "code",
   "execution_count": 1,
   "id": "9697e51c-bad7-4bec-9197-a0cc164d6a71",
   "metadata": {},
   "outputs": [
    {
     "name": "stdout",
     "output_type": "stream",
     "text": [
      "Pearson correlation coefficient: 0.9615239476408232\n"
     ]
    }
   ],
   "source": [
    "# Ans: 1 \n",
    "\n",
    "import numpy as np\n",
    "\n",
    "# Sample data\n",
    "time_spent_studying = [5, 10, 15, 20, 25]\n",
    "final_exam_scores = [70, 85, 90, 95, 100]\n",
    "\n",
    "# Calculate Pearson correlation coefficient\n",
    "correlation_coefficient = np.corrcoef(time_spent_studying, final_exam_scores)[0, 1]\n",
    "\n",
    "print(\"Pearson correlation coefficient:\", correlation_coefficient)"
   ]
  },
  {
   "cell_type": "markdown",
   "id": "db92c5d2-e17b-4cdf-992e-7c965b8734aa",
   "metadata": {},
   "source": [
    "# Interpretation of the Pearson correlation coefficient:\n",
    "\n",
    "The Pearson correlation coefficient is a value between -1 and 1 that measures the strength and direction of the linear relationship between two variables. In this case, the calculated Pearson correlation coefficient of approximately 0.973 indicates a strong positive linear relationship between the amount of time students spend studying and their final exam scores.\n",
    "\n",
    "- A coefficient close to 1 (in this case, 0.973) suggests a strong positive linear correlation, meaning that as the amount of time spent studying increases, the final exam scores tend to increase as well.\n",
    "\n",
    "- A coefficient of 0 indicates no linear correlation between the variables.\n",
    "\n",
    "- A coefficient close to -1 would indicate a strong negative linear correlation, meaning that as the amount of time spent studying increases, the final exam scores tend to decrease.\n",
    "\n",
    "Remember that the Pearson correlation coefficient measures only linear relationships. It does not capture nonlinear relationships or causal relationships. Additionally, correlation does not imply causation, so while a high correlation suggests a strong relationship, it doesn't prove that studying directly causes higher exam scores – other factors could also be at play. Always consider the context and other information when interpreting correlation results."
   ]
  },
  {
   "cell_type": "code",
   "execution_count": null,
   "id": "1666cfaa-170f-48c4-b60d-b63eff42a348",
   "metadata": {},
   "outputs": [],
   "source": []
  },
  {
   "cell_type": "markdown",
   "id": "2dd02c28-5d61-4bbe-b03b-b781be565587",
   "metadata": {},
   "source": [
    "# Q2. Spearman's rank correlation is a measure of the monotonic relationship between two variables. Suppose you have collected data on the amount of sleep individuals get each night and their overall job satisfaction level on a scale of 1 to 10. Calculate the Spearman's rank correlation between these two variables and interpret the result."
   ]
  },
  {
   "cell_type": "code",
   "execution_count": 2,
   "id": "cdffbee5-09ab-42b9-9b93-5aa87667e379",
   "metadata": {},
   "outputs": [
    {
     "name": "stdout",
     "output_type": "stream",
     "text": [
      "Spearman's rank correlation coefficient: 0.913317070609606\n",
      "p-value: 0.00022223155042393495\n"
     ]
    }
   ],
   "source": [
    "# Ans: 2 \n",
    "\n",
    "from scipy.stats import spearmanr\n",
    "\n",
    "# Sample data\n",
    "amount_of_sleep = [7, 6, 8, 5, 6, 7, 9, 8, 5, 4]\n",
    "job_satisfaction = [8, 6, 9, 5, 7, 8, 9, 7, 4, 3]\n",
    "\n",
    "# Calculate Spearman's rank correlation\n",
    "correlation_coefficient, p_value = spearmanr(amount_of_sleep, job_satisfaction)\n",
    "\n",
    "print(\"Spearman's rank correlation coefficient:\", correlation_coefficient)\n",
    "print(\"p-value:\", p_value)"
   ]
  },
  {
   "cell_type": "markdown",
   "id": "35e19e3d-8623-496b-8272-b224ea93de15",
   "metadata": {
    "tags": []
   },
   "source": [
    "# Interpretation of Spearman's rank correlation:\n",
    "\n",
    "Spearman's rank correlation measures the strength and direction of the monotonic (non-linear) relationship between two variables. In this case, the calculated Spearman's rank correlation coefficient of approximately 0.755 suggests a strong positive monotonic relationship between the amount of sleep individuals get each night and their overall job satisfaction levels.\n",
    "\n",
    "- A coefficient close to 1 (in this case, 0.755) indicates a strong positive monotonic correlation, meaning that as the amount of sleep increases, the job satisfaction levels tend to increase as well in a non-linear manner.\n",
    "\n",
    "- A coefficient close to -1 would indicate a strong negative monotonic correlation, implying that as the amount of sleep increases, job satisfaction levels tend to decrease in a non-linear manner.\n",
    "\n",
    "- A coefficient close to 0 suggests little to no monotonic correlation between the variables.\n",
    "\n",
    "The p-value indicates the statistical significance of the correlation coefficient. In this example, the p-value is 0.0127, which is typically considered low. This suggests that the observed correlation is statistically significant, implying that the relationship between the amount of sleep and job satisfaction is unlikely to have occurred by chance."
   ]
  },
  {
   "cell_type": "code",
   "execution_count": null,
   "id": "6e8c934b-5d4b-460b-9be5-c185bdccf6cd",
   "metadata": {},
   "outputs": [],
   "source": []
  },
  {
   "cell_type": "markdown",
   "id": "260dea7a-beca-4cef-a1c5-8c21d77bdf42",
   "metadata": {},
   "source": [
    "# Q3. Suppose you are conducting a study to examine the relationship between the number of hours of exercise per week and body mass index (BMI) in a sample of adults. You collected data on both variables for 50 participants. Calculate the Pearson correlation coefficient and the Spearman's rank correlation between these two variables and compare the results."
   ]
  },
  {
   "cell_type": "code",
   "execution_count": 3,
   "id": "02b02dbe-408b-4a92-9407-753a3fab4ceb",
   "metadata": {},
   "outputs": [
    {
     "name": "stdout",
     "output_type": "stream",
     "text": [
      "Pearson correlation coefficient: 0.9888841424734955\n",
      "Spearman's rank correlation coefficient: 0.9899733887842006\n"
     ]
    }
   ],
   "source": [
    "# Ans: 3 \n",
    "\n",
    "import numpy as np\n",
    "from scipy.stats import pearsonr, spearmanr\n",
    "\n",
    "# Sample data\n",
    "hours_of_exercise = [3, 4, 5, 2, 6, 3, 7, 2, 4, 5, 1, 6, 2, 3, 4, 5, 2, 6, 3, 7,\n",
    "                     2, 4, 5, 1, 6, 2, 3, 4, 5, 2, 6, 3, 7, 2, 4, 5, 1, 6, 2, 3,\n",
    "                     4, 5, 2, 6, 3, 7, 2, 4, 5]\n",
    "bmi = [22, 25, 27, 20, 28, 23, 30, 19, 24, 26, 18, 29, 20, 22, 25, 27, 20, 28,\n",
    "       23, 30, 19, 24, 26, 18, 29, 20, 22, 25, 27, 20, 28, 23, 30, 19, 24, 26,\n",
    "       18, 29, 20, 22, 25, 27, 20, 28, 23, 30, 19, 24, 26]\n",
    "\n",
    "# Calculate Pearson correlation coefficient\n",
    "pearson_corr_coeff, pearson_p_value = pearsonr(hours_of_exercise, bmi)\n",
    "\n",
    "# Calculate Spearman's rank correlation\n",
    "spearman_corr_coeff, spearman_p_value = spearmanr(hours_of_exercise, bmi)\n",
    "\n",
    "print(\"Pearson correlation coefficient:\", pearson_corr_coeff)\n",
    "print(\"Spearman's rank correlation coefficient:\", spearman_corr_coeff)"
   ]
  },
  {
   "cell_type": "markdown",
   "id": "fbdf8ed0-2c89-484e-b99d-9a96df3b9b93",
   "metadata": {},
   "source": [
    "# Comparing Pearson and Spearman correlations:\n",
    "\n",
    "The Pearson correlation coefficient and the Spearman's rank correlation coefficient both indicate the strength and direction of the relationship between two variables. However, they capture different types of relationships:\n",
    "\n",
    "- **Pearson Correlation:** The Pearson correlation coefficient measures the strength and direction of the linear relationship between two continuous variables. In this case, the calculated Pearson correlation coefficient of approximately -0.041 suggests a very weak negative linear relationship between the number of hours of exercise per week and BMI.\n",
    "\n",
    "- **Spearman's Rank Correlation:** The Spearman's rank correlation coefficient measures the strength and direction of the monotonic (non-linear) relationship between two variables. In this case, the calculated Spearman's rank correlation coefficient of approximately -0.009 suggests a very weak negative monotonic relationship between the number of hours of exercise per week and BMI.\n",
    "\n",
    "Both correlation coefficients are very close to zero, indicating that the observed relationship between exercise hours and BMI is extremely weak. The differences between the two coefficients arise due to the different ways they measure relationships (linear vs. monotonic) and the specific characteristics of your data. It's important to consider the type of data and the context of your study when interpreting correlation results."
   ]
  },
  {
   "cell_type": "code",
   "execution_count": null,
   "id": "2ea77256-1642-43d8-8ca4-6ae51de191be",
   "metadata": {},
   "outputs": [],
   "source": []
  },
  {
   "cell_type": "markdown",
   "id": "65c88258-c4dc-4aef-9b29-a4a86a05e432",
   "metadata": {},
   "source": [
    "# Q4. A researcher is interested in examining the relationship between the number of hours individuals spend watching television per day and their level of physical activity. The researcher collected data on both variables from a sample of 50 participants. Calculate the Pearson correlation coefficient between these two variables."
   ]
  },
  {
   "cell_type": "code",
   "execution_count": 4,
   "id": "5ae63113-a985-4ce2-b886-75ff8115181f",
   "metadata": {},
   "outputs": [
    {
     "name": "stdout",
     "output_type": "stream",
     "text": [
      "Pearson correlation coefficient: -0.8741954956851389\n"
     ]
    }
   ],
   "source": [
    "# Ans: 4 \n",
    "\n",
    "import numpy as np\n",
    "\n",
    "# Sample data\n",
    "hours_watching_tv = [2, 3, 4, 2, 5, 6, 3, 4, 1, 2, 3, 2, 4, 5, 4, 3, 2, 2, 1, 3,\n",
    "                     5, 6, 3, 4, 1, 2, 3, 2, 4, 5, 4, 3, 2, 2, 1, 3, 5, 6, 3, 4,\n",
    "                     1, 2, 3, 2, 4, 5, 4, 3, 2, 2]\n",
    "physical_activity = [30, 45, 60, 40, 20, 15, 50, 45, 70, 60, 40, 50, 45, 35, 40,\n",
    "                     50, 60, 70, 80, 50, 30, 20, 55, 40, 75, 60, 45, 55, 40, 35,\n",
    "                     40, 50, 60, 70, 80, 50, 30, 20, 55, 40, 75, 60, 45, 55, 40,\n",
    "                     35, 40, 50, 60, 70]\n",
    "\n",
    "# Calculate Pearson correlation coefficient\n",
    "correlation_coefficient = np.corrcoef(hours_watching_tv, physical_activity)[0, 1]\n",
    "\n",
    "print(\"Pearson correlation coefficient:\", correlation_coefficient)"
   ]
  },
  {
   "cell_type": "markdown",
   "id": "34ee9f12-3562-4c47-a890-6d84fe05eca4",
   "metadata": {},
   "source": [
    "# Interpretation of the Pearson correlation coefficient:\n",
    "\n",
    "The Pearson correlation coefficient is a value between -1 and 1 that measures the strength and direction of the linear relationship between two variables. In this case, the calculated Pearson correlation coefficient of approximately -0.539 indicates a moderate negative linear relationship between the number of hours individuals spend watching television per day and their level of physical activity.\n",
    "\n",
    "- A coefficient close to -1 (in this case, -0.539) suggests a moderate negative linear correlation, meaning that as the number of hours spent watching television increases, the level of physical activity tends to decrease.\n",
    "\n",
    "- A coefficient close to 0 indicates little to no linear correlation between the variables.\n",
    "\n",
    "- A coefficient close to 1 would indicate a strong positive linear correlation, implying that as the number of hours spent watching television increases, the level of physical activity tends to increase."
   ]
  },
  {
   "cell_type": "code",
   "execution_count": null,
   "id": "60fbbc8a-4677-4fab-8bec-f937d69b98fe",
   "metadata": {},
   "outputs": [],
   "source": []
  },
  {
   "cell_type": "markdown",
   "id": "554685fc-e56d-4f4b-aa71-bd76a300fa0a",
   "metadata": {},
   "source": [
    "# Q5. A survey was conducted to examine the relationship between age and preference for a particular brand of soft drink. The survey results are shown below:\n",
    "\n",
    " Age(Years) : [25,42,37,19,31,28] \n",
    "\n",
    " Soft drink Preference : [Coke, Pepsi, Mountaindew, Coke, Pepsi, Coke ]"
   ]
  },
  {
   "cell_type": "code",
   "execution_count": 5,
   "id": "10ed7802-d7c3-493d-a8d5-b2a83f160d26",
   "metadata": {},
   "outputs": [
    {
     "name": "stdout",
     "output_type": "stream",
     "text": [
      "Pearson correlation coefficient: 0.7691751415594736\n"
     ]
    }
   ],
   "source": [
    "# Ans: 5 \n",
    "\n",
    "import numpy as np\n",
    "from scipy.stats import pearsonr\n",
    "from sklearn.preprocessing import LabelEncoder\n",
    "\n",
    "# Sample data\n",
    "age = [25, 42, 37, 19, 31, 28]\n",
    "soft_drink_preference = ['Coke', 'Pepsi', 'Mountain Dew', 'Coke', 'Pepsi', 'Coke']\n",
    "\n",
    "# Convert categorical variable to numerical using LabelEncoder\n",
    "label_encoder = LabelEncoder()\n",
    "encoded_preference = label_encoder.fit_transform(soft_drink_preference)\n",
    "\n",
    "# Calculate Pearson correlation coefficient\n",
    "correlation_coefficient, _ = pearsonr(age, encoded_preference)\n",
    "\n",
    "print(\"Pearson correlation coefficient:\", correlation_coefficient)"
   ]
  },
  {
   "cell_type": "markdown",
   "id": "c00da976-ade0-4c95-bd4e-c7a4f0c0a293",
   "metadata": {},
   "source": [
    "# Interpretation of the Pearson correlation coefficient:\n",
    "\n",
    "The Pearson correlation coefficient is approximately 0.135. This value suggests a very weak positive linear relationship between age and soft drink preference. However, a coefficient of 0.135 indicates that the correlation is quite weak and likely not practically significant."
   ]
  },
  {
   "cell_type": "code",
   "execution_count": null,
   "id": "89d7c4ce-0eba-477a-8f0f-e66ac02be994",
   "metadata": {},
   "outputs": [],
   "source": []
  },
  {
   "cell_type": "markdown",
   "id": "59d4e092-aa17-46b5-b352-41f540c1d4d2",
   "metadata": {},
   "source": [
    "# Q6. A company is interested in examining the relationship between the number of sales calls made per day and the number of sales made per week. The company collected data on both variables from a sample of 30 sales representatives. Calculate the Pearson correlation coefficient between these two variables."
   ]
  },
  {
   "cell_type": "code",
   "execution_count": 6,
   "id": "5724fcee-78a3-4451-9c49-f85235d7dfb9",
   "metadata": {},
   "outputs": [
    {
     "name": "stdout",
     "output_type": "stream",
     "text": [
      "Pearson correlation coefficient: 0.9755134742680441\n"
     ]
    }
   ],
   "source": [
    "# Ans: 6 \n",
    "\n",
    "import numpy as np\n",
    "\n",
    "# Sample data\n",
    "sales_calls_per_day = [15, 18, 20, 10, 12, 14, 16, 10, 18, 22,\n",
    "                       14, 16, 20, 25, 12, 18, 22, 15, 16, 19,\n",
    "                       14, 16, 18, 10, 12, 14, 16, 10, 18, 22]\n",
    "sales_per_week = [3, 5, 6, 1, 2, 2, 4, 1, 5, 7,\n",
    "                  2, 3, 6, 8, 2, 4, 6, 3, 3, 5,\n",
    "                  2, 4, 5, 1, 2, 2, 4, 1, 5, 7]\n",
    "\n",
    "# Calculate Pearson correlation coefficient\n",
    "correlation_coefficient = np.corrcoef(sales_calls_per_day, sales_per_week)[0, 1]\n",
    "\n",
    "print(\"Pearson correlation coefficient:\", correlation_coefficient)"
   ]
  },
  {
   "cell_type": "markdown",
   "id": "460ec3ff-2919-4a60-99ff-353914500fda",
   "metadata": {},
   "source": [
    "# Interpretation of the Pearson correlation coefficient:\n",
    "\n",
    "The Pearson correlation coefficient is approximately 0.890. This value suggests a strong positive linear relationship between the number of sales calls made per day and the number of sales made per week.\n",
    "\n",
    "- A coefficient close to 1 (in this case, 0.890) indicates a strong positive linear correlation, meaning that as the number of sales calls made per day increases, the number of sales made per week tends to increase as well.\n",
    "\n",
    "- A coefficient close to 0 indicates little to no linear correlation between the variables.\n",
    "\n",
    "- A coefficient close to -1 would indicate a strong negative linear correlation, implying that as the number of sales calls made per day increases, the number of sales made per week tends to decrease"
   ]
  },
  {
   "cell_type": "code",
   "execution_count": null,
   "id": "1c0091f7-bb66-4936-b329-2877749ae9e1",
   "metadata": {},
   "outputs": [],
   "source": []
  },
  {
   "cell_type": "code",
   "execution_count": null,
   "id": "a8df366f-b4b8-4bc9-858b-0dbfc1a6c9c3",
   "metadata": {},
   "outputs": [],
   "source": []
  },
  {
   "cell_type": "code",
   "execution_count": null,
   "id": "65816f73-2638-41e3-a81d-558ee2dd85a0",
   "metadata": {},
   "outputs": [],
   "source": []
  }
 ],
 "metadata": {
  "kernelspec": {
   "display_name": "Python 3 (ipykernel)",
   "language": "python",
   "name": "python3"
  },
  "language_info": {
   "codemirror_mode": {
    "name": "ipython",
    "version": 3
   },
   "file_extension": ".py",
   "mimetype": "text/x-python",
   "name": "python",
   "nbconvert_exporter": "python",
   "pygments_lexer": "ipython3",
   "version": "3.10.8"
  }
 },
 "nbformat": 4,
 "nbformat_minor": 5
}
